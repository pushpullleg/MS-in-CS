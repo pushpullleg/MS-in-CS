{
 "cells": [
  {
   "cell_type": "code",
   "execution_count": 1,
   "metadata": {},
   "outputs": [
    {
     "name": "stderr",
     "output_type": "stream",
     "text": [
<<<<<<< HEAD
      "Setting default log level to \"WARN\".\n",
      "To adjust logging level use sc.setLogLevel(newLevel). For SparkR, use setLogLevel(newLevel).\n",
=======
      "25/04/03 23:36:35 WARN Utils: Your hostname, Mukeshs-Laptop.local resolves to a loopback address: 127.0.0.1; using 192.168.0.103 instead (on interface en0)\n",
      "25/04/03 23:36:35 WARN Utils: Set SPARK_LOCAL_IP if you need to bind to another address\n",
      "Setting default log level to \"WARN\".\n",
      "To adjust logging level use sc.setLogLevel(newLevel). For SparkR, use setLogLevel(newLevel).\n",
      "25/04/03 23:36:35 WARN NativeCodeLoader: Unable to load native-hadoop library for your platform... using builtin-java classes where applicable\n",
>>>>>>> f21e7c4dd1f0a5215d918309979e25882118706b
      "                                                                                \r"
     ]
    },
    {
     "name": "stdout",
     "output_type": "stream",
     "text": [
      "Filtered Items (Sales > 100): [('Laptop', 1000), ('Mobile', 500), ('Tablet', 300), ('Shoes', 120)]\n"
     ]
    }
   ],
   "source": [
    "from pyspark.sql import SparkSession\n",
    "\n",
    "# Initialize Spark Session\n",
    "spark = SparkSession.builder.appName(\"SimplePySpark\").getOrCreate()\n",
    "sc = spark.sparkContext\n",
    "\n",
    "# Sample data\n",
    "sales_data = [\n",
    "    (\"Laptop\", 1000),\n",
    "    (\"Mobile\", 500),\n",
    "    (\"Tablet\", 300),\n",
    "    (\"Shoes\", 120),\n",
    "    (\"Shirt\", 50)\n",
    "]\n",
    "\n",
    "# Create RDD\n",
    "rdd = sc.parallelize(sales_data)\n",
    "\n",
    "# Transform: Filter items with sales > 100\n",
    "filtered_rdd = rdd.filter(lambda x: x[1] > 100)\n",
    "\n",
    "# Action: Collect and print the result\n",
    "result = filtered_rdd.collect()\n",
    "print(\"Filtered Items (Sales > 100):\", result)\n",
    "\n",
    "# Stop Spark Session\n",
    "spark.stop()\n"
   ]
  }
 ],
 "metadata": {
  "kernelspec": {
   "display_name": "base",
   "language": "python",
   "name": "python3"
  },
  "language_info": {
   "codemirror_mode": {
    "name": "ipython",
    "version": 3
   },
   "file_extension": ".py",
   "mimetype": "text/x-python",
   "name": "python",
   "nbconvert_exporter": "python",
   "pygments_lexer": "ipython3",
   "version": "3.12.2"
  }
 },
 "nbformat": 4,
 "nbformat_minor": 2
}
